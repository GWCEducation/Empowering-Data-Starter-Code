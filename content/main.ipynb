{
 "cells": [
  {
   "cell_type": "code",
   "execution_count": null,
   "id": "2c6ca845",
   "metadata": {},
   "outputs": [],
   "source": [
    "# This code is written in python\n",
    "# The pandas library is used for data processing and to read data files\n",
    "import pandas as pd \n",
    "#The matplotlib library is used to plot histograms and scatter plots\n",
    "import matplotlib.pyplot as plt\n",
    "# The GWCutilities has functions to help format data printed to the console\n",
    "import GWCutilities as util\n",
    "\n",
    "# Read a comma separated values (CSV) files into a variable\n",
    "# as a pandas DataFrame\n",
    "lwd=pd.read_csv(\"livwell135.csv\")\n",
    "\n",
    "# Print out the number of rows and columns\n",
    "print(lwd.shape)\n",
    "\n",
    "#  basic colors:\n",
    "# 'blue', 'green', 'red', 'cyan', 'magenta', 'yellow', 'black', 'white'\n",
    "\n",
    "# create a scatter plot\n",
    "plt.scatter(lwd[\"year\"],lwd[\"ED_litt_p\"],color=\"red\")\n",
    "\n",
    "# add a title to the plot\n",
    "plt.title(\"Percent of Women Who are Literate over Time\")\n",
    "\n",
    "#Label the x-axis\n",
    "plt.xlabel(\"Year\")\n",
    "\n",
    "# label the y-axis\n",
    "plt.ylabel(\"Women who are literate (%)\")\n",
    "\n",
    "# show the plot\n",
    "plt.show()\n"
   ]
  }
 ],
 "metadata": {},
 "nbformat": 4,
 "nbformat_minor": 5
}
